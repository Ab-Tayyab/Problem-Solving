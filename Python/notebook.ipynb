{
 "cells": [
  {
   "cell_type": "code",
   "execution_count": null,
   "id": "8a632b9f",
   "metadata": {},
   "outputs": [],
   "source": []
  },
  {
   "cell_type": "code",
   "execution_count": null,
   "id": "8c5cf92d",
   "metadata": {},
   "outputs": [
    {
     "name": "stdout",
     "output_type": "stream",
     "text": [
      "Number is less then 10:\n"
     ]
    }
   ],
   "source": [
    "# Conditional Statements & operators\n",
    "num = 9\n",
    "if(num>10):\n",
    "    print(\"Number is greater then 10:\")\n",
    "else:\n",
    "    print(\"Number is less then 10:\")\n",
    "\n",
    "plus = \"+\"\n",
    "minus = \"-\"\n",
    "multiply = \"*\"\n",
    "divide = \"/\"\n",
    "modulus = \"%\""
   ]
  },
  {
   "cell_type": "code",
   "execution_count": null,
   "id": "cfdfbeca",
   "metadata": {},
   "outputs": [
    {
     "name": "stdout",
     "output_type": "stream",
     "text": [
      "I'm  Abdullah Tayyab  and my age is  25 . I am a  Web Developer\n"
     ]
    }
   ],
   "source": [
    "# Variables & data type\n",
    "\n",
    "name = \"Abdullah Tayyab\"\n",
    "age = 25\n",
    "designation = \"Web Developer\" \n",
    "isBoolean = True\n",
    "isFloat = 0.23\n",
    "print(\"I'm \" , name , \" and my age is \" , age , \". I am a \" , designation)\n",
    "\n",
    "# sum og two numbers \n",
    "n1 = int(input(\"Enter First Number\"))\n",
    "n2 = int(input(\"Enter Second Number\"))\n",
    "print(\"Sum is: \",n1+n2)\n",
    "\n",
    "# find area \n",
    "area = int(input(\"Enter the length of side\"))\n",
    "print(\"Area of square is: \",area*2)\n",
    "\n",
    "# average of floating point number \n",
    "float1 = float(input(\"Enter first floating point number\"))\n",
    "float2 = float(input(\"Enter second floating point number\"))\n",
    "print(\"Average of floating point number is: \" (float1+float2)/2)"
   ]
  }
 ],
 "metadata": {
  "kernelspec": {
   "display_name": "Python 3",
   "language": "python",
   "name": "python3"
  },
  "language_info": {
   "codemirror_mode": {
    "name": "ipython",
    "version": 3
   },
   "file_extension": ".py",
   "mimetype": "text/x-python",
   "name": "python",
   "nbconvert_exporter": "python",
   "pygments_lexer": "ipython3",
   "version": "3.13.5"
  }
 },
 "nbformat": 4,
 "nbformat_minor": 5
}
